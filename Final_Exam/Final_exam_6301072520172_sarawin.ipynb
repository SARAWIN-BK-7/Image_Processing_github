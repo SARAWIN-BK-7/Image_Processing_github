{
 "cells": [
  {
   "cell_type": "markdown",
   "metadata": {},
   "source": [
    "<h2 style=\"text-align: center\">Final exam Image Processing </h2>\n",
    "<h3 style=\"text-align: center\">Sarawin Buakaew ID: 63-010725-2017-2</h3>\n",
    "\n",
    "\n"
   ]
  },
  {
   "cell_type": "code",
   "execution_count": 2,
   "metadata": {},
   "outputs": [],
   "source": [
    "import numpy as np\n",
    "import cv2 as cv\n",
    "from cv2 import aruco\n",
    "import os \n",
    "import matplotlib.pyplot as plt"
   ]
  },
  {
   "cell_type": "code",
   "execution_count": 3,
   "metadata": {},
   "outputs": [],
   "source": [
    "def preprocessing(img) :\n",
    "    img_gray = cv.cvtColor(img, cv.COLOR_BGR2GRAY)\n",
    "    # img = cv2.cvtColor(img, cv2.COLOR_BGR2RGB)\n",
    "    return img_gray"
   ]
  },
  {
   "cell_type": "code",
   "execution_count": 4,
   "metadata": {},
   "outputs": [],
   "source": [
    "# params_dir = os.getcwd()+'camera_params/monocular_camera_params'\n",
    "# print(params_dir)\n",
    "# # Loaa camera parameters\n",
    "# ret = np.load(params_dir+'ret.npy')\n"
   ]
  },
  {
   "cell_type": "code",
   "execution_count": 5,
   "metadata": {},
   "outputs": [],
   "source": [
    "vid = cv.VideoCapture('Final_exam/Dataset-1/left_output-1.avi')\n",
    "template_img = cv.imread('Templates/Template-1.png')\n",
    "template_gray = preprocessing(template_img)\n",
    "\n",
    "# plt.imshow(template_gray)"
   ]
  },
  {
   "cell_type": "code",
   "execution_count": 6,
   "metadata": {},
   "outputs": [],
   "source": [
    "sift = cv.SIFT_create()\n",
    "bf = cv.BFMatcher()"
   ]
  },
  {
   "cell_type": "code",
   "execution_count": 7,
   "metadata": {},
   "outputs": [],
   "source": [
    "def feature_object_detection(template_img,query_gray, frame, min_match_number) :\n",
    "    template_kpts, template_desc = sift.detectAndCompute(template_img, None)\n",
    "    query_kpts, query_desc = sift.detectAndCompute(query_gray, None)\n",
    "    matches = bf.knnMatch(template_desc, query_desc, k=2)\n",
    "    \n",
    "    good_matches = list()\n",
    "    good_matches_list = list()\n",
    "    for m, n in matches :\n",
    "        if m.distance < 0.7*n.distance :\n",
    "            good_matches.append(m)\n",
    "            good_matches_list.append([m])\n",
    "    \n",
    "    if len(good_matches) > min_match_number :\n",
    "        src_pts = np.float32([ template_kpts[m.queryIdx].pt for m in good_matches ]).reshape(-1,1,2)\n",
    "        dst_pts = np.float32([ query_kpts[m.trainIdx].pt for m in good_matches ]).reshape(-1,1,2)\n",
    "\n",
    "        H, inlier_masks = cv.findHomography(src_pts, dst_pts, cv.RANSAC, 10.0) # H RANSAC\n",
    "        # get the bounding box around template image\n",
    "        h, w = template_img.shape[:2]\n",
    "        template_box = np.float32([[0, 0], [0, h-1], [w-1, h-1], [w-1, 0]]).reshape(-1,1,2)\n",
    "        transformed_box = cv.perspectiveTransform(template_box, H)\n",
    "\n",
    "        detected_img = cv.polylines(frame, [np.int32(transformed_box)], True, (0,0,255), 3, cv.LINE_AA)\n",
    "        drawmatch_img = cv.drawMatchesKnn(template_img, template_kpts, detected_img, query_kpts, good_matches_list, None, flags=2, matchesMask=inlier_masks)\n",
    "\n",
    "        return detected_img, drawmatch_img\n",
    "    else :\n",
    "        print('Keypoints not enough')\n",
    "        return\n"
   ]
  },
  {
   "cell_type": "markdown",
   "metadata": {},
   "source": [
    "<h4 style=\"text-align: center\">VidoCapture is OpenVideo</h4>"
   ]
  },
  {
   "cell_type": "code",
   "execution_count": 8,
   "metadata": {},
   "outputs": [
    {
     "name": "stdout",
     "output_type": "stream",
     "text": [
      "Keypoints not enough\n"
     ]
    },
    {
     "ename": "TypeError",
     "evalue": "cannot unpack non-iterable NoneType object",
     "output_type": "error",
     "traceback": [
      "\u001b[1;31m---------------------------------------------------------------------------\u001b[0m",
      "\u001b[1;31mTypeError\u001b[0m                                 Traceback (most recent call last)",
      "\u001b[1;32md:\\Term1_65\\Image_Processing\\Image_Processing_github\\Final_Exam\\Final_exam_6301072520172_sarawin.ipynb Cell 9\u001b[0m in \u001b[0;36m<cell line: 1>\u001b[1;34m()\u001b[0m\n\u001b[0;32m     <a href='vscode-notebook-cell:/d%3A/Term1_65/Image_Processing/Image_Processing_github/Final_Exam/Final_exam_6301072520172_sarawin.ipynb#X10sZmlsZQ%3D%3D?line=9'>10</a>\u001b[0m \u001b[39mfilter\u001b[39m \u001b[39m=\u001b[39m cv\u001b[39m.\u001b[39mfilter2D(query_img, \u001b[39m-\u001b[39m\u001b[39m1\u001b[39m,kernel)\n\u001b[0;32m     <a href='vscode-notebook-cell:/d%3A/Term1_65/Image_Processing/Image_Processing_github/Final_Exam/Final_exam_6301072520172_sarawin.ipynb#X10sZmlsZQ%3D%3D?line=10'>11</a>\u001b[0m query_gray \u001b[39m=\u001b[39m preprocessing(\u001b[39mfilter\u001b[39m)\n\u001b[1;32m---> <a href='vscode-notebook-cell:/d%3A/Term1_65/Image_Processing/Image_Processing_github/Final_Exam/Final_exam_6301072520172_sarawin.ipynb#X10sZmlsZQ%3D%3D?line=11'>12</a>\u001b[0m detected, drawmatch \u001b[39m=\u001b[39m  feature_object_detection(template_img, query_gray, frame, \u001b[39m10\u001b[39m)\n\u001b[0;32m     <a href='vscode-notebook-cell:/d%3A/Term1_65/Image_Processing/Image_Processing_github/Final_Exam/Final_exam_6301072520172_sarawin.ipynb#X10sZmlsZQ%3D%3D?line=13'>14</a>\u001b[0m cv\u001b[39m.\u001b[39mimshow(\u001b[39m'\u001b[39m\u001b[39mVideo exam\u001b[39m\u001b[39m'\u001b[39m,drawmatch)\n\u001b[0;32m     <a href='vscode-notebook-cell:/d%3A/Term1_65/Image_Processing/Image_Processing_github/Final_Exam/Final_exam_6301072520172_sarawin.ipynb#X10sZmlsZQ%3D%3D?line=14'>15</a>\u001b[0m \u001b[39m# if cv.waitKey(int(1000/20)) & 0xFF == ord('q') : # int(1000/20) ทำให้ video slowly\u001b[39;00m\n",
      "\u001b[1;31mTypeError\u001b[0m: cannot unpack non-iterable NoneType object"
     ]
    },
    {
     "ename": "",
     "evalue": "",
     "output_type": "error",
     "traceback": [
      "\u001b[1;31mThe Kernel crashed while executing code in the the current cell or a previous cell. Please review the code in the cell(s) to identify a possible cause of the failure. Click <a href='https://aka.ms/vscodeJupyterKernelCrash'>here</a> for more info. View Jupyter <a href='command:jupyter.viewOutput'>log</a> for further details."
     ]
    }
   ],
   "source": [
    "while vid.isOpened():\n",
    "    \n",
    "    ret, frame = vid.read()\n",
    "    \n",
    "    if ret :\n",
    "        query_img = frame\n",
    "        kernel = np.array([[0,0,0],\n",
    "                           [0,1.5,0],\n",
    "                           [0,0,0]])\n",
    "        filter = cv.filter2D(query_img, -1,kernel)\n",
    "        query_gray = preprocessing(filter)\n",
    "        detected, drawmatch =  feature_object_detection(template_img, query_gray, frame, 10)\n",
    "    \n",
    "        cv.imshow('Video exam',drawmatch)\n",
    "        # if cv.waitKey(int(1000/20)) & 0xFF == ord('q') : # int(1000/20) ทำให้ video slowly\n",
    "        if cv.waitKey(33) & 0xFF == ord('q'):\n",
    "            break\n",
    "    else :\n",
    "            break\n",
    "\n",
    "vid.release()\n",
    "cv.destroyAllWindows()"
   ]
  }
 ],
 "metadata": {
  "kernelspec": {
   "display_name": "Python 3.10.6 64-bit",
   "language": "python",
   "name": "python3"
  },
  "language_info": {
   "codemirror_mode": {
    "name": "ipython",
    "version": 3
   },
   "file_extension": ".py",
   "mimetype": "text/x-python",
   "name": "python",
   "nbconvert_exporter": "python",
   "pygments_lexer": "ipython3",
   "version": "3.10.6"
  },
  "orig_nbformat": 4,
  "vscode": {
   "interpreter": {
    "hash": "e593ac106456af50ce7af38f9671c411b49d6cd90f9b885e167f0f594e09038c"
   }
  }
 },
 "nbformat": 4,
 "nbformat_minor": 2
}
