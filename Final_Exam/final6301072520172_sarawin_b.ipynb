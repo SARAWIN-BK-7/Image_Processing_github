{
 "cells": [
  {
   "cell_type": "markdown",
   "metadata": {},
   "source": [
    "\n",
    "<h2 style = \"text-align: center\"> Final Exam Sarawin Buakaew ID: 63-010725-2017-2<h2>                                                        "
   ]
  },
  {
   "cell_type": "code",
   "execution_count": 1,
   "metadata": {},
   "outputs": [
    {
     "name": "stdout",
     "output_type": "stream",
     "text": [
      "Jupyter environment detected. Enabling Open3D WebVisualizer.\n",
      "[Open3D INFO] WebRTC GUI backend enabled.\n",
      "[Open3D INFO] WebRTCWindowSystem: HTTP handshake server disabled.\n"
     ]
    }
   ],
   "source": [
    "import numpy as np \n",
    "import cv2 as cv\n",
    "import matplotlib.pyplot as plt\n",
    "from scipy.ndimage import filters\n",
    "from PIL import Image\n",
    "import open3d as o3d"
   ]
  },
  {
   "cell_type": "code",
   "execution_count": 9,
   "metadata": {},
   "outputs": [],
   "source": [
    "def compute_harris_response(im, sigma=3) : \n",
    "    \n",
    "    # Gaussian derivative\n",
    "    Ix = np.zeros(im.shape)\n",
    "    filters.gaussian_filter(im, (sigma, sigma), (0,1), Ix)\n",
    "    Iy = np.zeros(im.shape)\n",
    "    filters.gaussian_filter(im, (sigma, sigma), (1,0), Iy)\n",
    "    \n",
    "    fig, axes = plt.subplots(1, 2, figsize=(10,10))\n",
    "    for ax in axes :\n",
    "        ax.axis('off')\n",
    "    axes[0].imshow(Ix, cmap = 'gray')\n",
    "    axes[1].imshow(Iy, cmap = 'gray')\n",
    "    \n",
    "    # Compute components of the Harris matrix\n",
    "    Sxx = filters.gaussian_filter(Ix*Ix, sigma)\n",
    "    Sxy = filters.gaussian_filter(Ix*Iy, sigma)\n",
    "    Syy = filters.gaussian_filter(Iy*Iy, sigma)\n",
    "\n",
    "    # Determinant and Trace\n",
    "    Hdet  = Sxx*Syy - Sxy**2\n",
    "    Htr = Sxx + Syy\n",
    "    \n",
    "    # Response function\n",
    "    R = Hdet - 0.04*Htr**2\n",
    "\n",
    "    fig, axes = plt.subplots(1,2, figsize=(10,10))\n",
    "    for ax in axes : \n",
    "        ax.axis('off')\n",
    "\n",
    "    axes[0].imshow(im, cmap= 'gray' )\n",
    "    axes[1].imshow(R, cmap='jet')\n",
    "\n",
    "    return R"
   ]
  }
 ],
 "metadata": {
  "kernelspec": {
   "display_name": "Python 3.10.6 64-bit",
   "language": "python",
   "name": "python3"
  },
  "language_info": {
   "codemirror_mode": {
    "name": "ipython",
    "version": 3
   },
   "file_extension": ".py",
   "mimetype": "text/x-python",
   "name": "python",
   "nbconvert_exporter": "python",
   "pygments_lexer": "ipython3",
   "version": "3.10.6"
  },
  "orig_nbformat": 4,
  "vscode": {
   "interpreter": {
    "hash": "e593ac106456af50ce7af38f9671c411b49d6cd90f9b885e167f0f594e09038c"
   }
  }
 },
 "nbformat": 4,
 "nbformat_minor": 2
}
